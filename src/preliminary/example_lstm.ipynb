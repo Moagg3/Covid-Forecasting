{
 "cells": [
  {
   "cell_type": "code",
   "execution_count": null,
   "metadata": {},
   "outputs": [],
   "source": [
    "import pandas as pd\n",
    "import torch\n",
    "from torch import nn\n",
    "from torch.utils.data import DataLoader\n",
    "\n",
    "import git\n",
    "import sys\n",
    "import os\n",
    "\n",
    "sys.path.append(git.Repo(\".\", search_parent_directories=True).working_tree_dir)\n",
    "sys.path.append(os.abs.path(os.path.join(os.path.dirname(__file__), \"..\")))\n",
    "\n",
    "from modules.model import ShallowRegressionLSTM\n",
    "from modules.model_utils import (\n",
    "    SequenceDataset,\n",
    "    train_lstm_model,\n",
    "    test_lstm_model,\n",
    "    lstm_predict,\n",
    ")"
   ]
  },
  {
   "cell_type": "code",
   "execution_count": null,
   "metadata": {},
   "outputs": [],
   "source": [
    "symptom_data = pd.read_csv(\"../datasets/combined.csv\")\n",
    "media_data = pd.read_csv(\"../datasets/media_count_ratio_all_2021.csv\")"
   ]
  },
  {
   "cell_type": "code",
   "execution_count": null,
   "metadata": {},
   "outputs": [],
   "source": [
    "symptom = \"symptom:shortness of breath\""
   ]
  },
  {
   "cell_type": "code",
   "execution_count": null,
   "metadata": {},
   "outputs": [],
   "source": [
    "a = symptom_data[symptom]\n",
    "b = media_data[symptom]\n",
    "c = symptom_data[\"daily_new_positives\"]\n",
    "\n",
    "features = [\"symptom\", \"media\"]\n",
    "target = \"case\"\n",
    "\n",
    "\n",
    "df = pd.concat([a, b, c], axis=1)\n",
    "df.columns = features + [target]\n",
    "df"
   ]
  },
  {
   "cell_type": "code",
   "execution_count": null,
   "metadata": {},
   "outputs": [],
   "source": [
    "test_start = int(365 * 0.8)\n",
    "\n",
    "df_train = df.loc[:test_start].copy()\n",
    "df_test = df.loc[test_start:].copy()"
   ]
  },
  {
   "cell_type": "code",
   "execution_count": null,
   "metadata": {},
   "outputs": [],
   "source": [
    "target_mean = df_train[\"case\"].mean()\n",
    "target_stdev = df_train[\"case\"].std()\n",
    "\n",
    "for c in df_train.columns:\n",
    "    mean = df_train[c].mean()\n",
    "    stdev = df_train[c].std()\n",
    "\n",
    "    df_train[c] = (df_train[c] - mean) / stdev\n",
    "    df_test[c] = (df_test[c] - mean) / stdev"
   ]
  },
  {
   "cell_type": "code",
   "execution_count": null,
   "metadata": {},
   "outputs": [],
   "source": [
    "torch.manual_seed(101)\n",
    "\n",
    "batch_size = 4\n",
    "sequence_length = 30\n",
    "\n",
    "train_dataset = SequenceDataset(\n",
    "    df_train, target=target, features=features, sequence_length=sequence_length\n",
    ")\n",
    "test_dataset = SequenceDataset(\n",
    "    df_test, target=target, features=features, sequence_length=sequence_length\n",
    ")\n",
    "\n",
    "train_loader = DataLoader(train_dataset, batch_size=batch_size, shuffle=True)\n",
    "test_loader = DataLoader(test_dataset, batch_size=batch_size, shuffle=False)\n",
    "\n",
    "X, y = next(iter(train_loader))\n",
    "\n",
    "print(\"Features shape:\", X.shape)\n",
    "print(\"Target shape:\", y.shape)"
   ]
  },
  {
   "cell_type": "code",
   "execution_count": null,
   "metadata": {},
   "outputs": [],
   "source": [
    "learning_rate = 5e-5\n",
    "num_hidden_units = 16\n",
    "\n",
    "model = ShallowRegressionLSTM(num_features=2, hidden_units=num_hidden_units)\n",
    "loss_function = nn.MSELoss()\n",
    "optimizer = torch.optim.Adam(model.parameters(), lr=learning_rate)"
   ]
  },
  {
   "cell_type": "code",
   "execution_count": null,
   "metadata": {},
   "outputs": [],
   "source": [
    "print(\"Untrained test\\n--------\")\n",
    "test_lstm_model(test_loader, model, loss_function)\n",
    "print()\n",
    "\n",
    "for i_epoch in range(10):\n",
    "    print(\"Epoch {}\\n---------\".format(i_epoch))\n",
    "    train_lstm_model(train_loader, model, loss_function, optimizer=optimizer)\n",
    "    test_lstm_model(test_loader, model, loss_function)\n",
    "    print()"
   ]
  },
  {
   "cell_type": "code",
   "execution_count": null,
   "metadata": {},
   "outputs": [],
   "source": [
    "train_eval_loader = DataLoader(train_dataset, batch_size=batch_size, shuffle=False)\n",
    "\n",
    "ystar_col = \"forcasted_cases\"\n",
    "df_train[ystar_col] = lstm_predict(train_eval_loader, model).numpy()\n",
    "df_test[ystar_col] = lstm_predict(test_loader, model).numpy()\n",
    "\n",
    "df_out = pd.concat((df_train, df_test))[[target, ystar_col]]\n",
    "\n",
    "for c in df_out.columns:\n",
    "    df_out[c] = df_out[c] * target_stdev + target_mean\n",
    "\n",
    "df_out"
   ]
  },
  {
   "cell_type": "code",
   "execution_count": null,
   "metadata": {},
   "outputs": [],
   "source": []
  }
 ],
 "metadata": {
  "kernelspec": {
   "display_name": "Python 3.10.6",
   "language": "python",
   "name": "python3"
  },
  "language_info": {
   "codemirror_mode": {
    "name": "ipython",
    "version": 3
   },
   "file_extension": ".py",
   "mimetype": "text/x-python",
   "name": "python",
   "nbconvert_exporter": "python",
   "pygments_lexer": "ipython3",
   "version": "3.10.6"
  },
  "orig_nbformat": 4,
  "vscode": {
   "interpreter": {
    "hash": "47e775c0c2ec5925892ed9ec69e655fcb107c4afa121ee38a538c2a11d2b5b0c"
   }
  }
 },
 "nbformat": 4,
 "nbformat_minor": 2
}
