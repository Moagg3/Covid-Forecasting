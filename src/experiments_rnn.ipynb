{
 "cells": [
  {
   "cell_type": "code",
   "execution_count": 1,
   "metadata": {
    "id": "pj4qGBFGLkmB"
   },
   "outputs": [
    {
     "name": "stderr",
     "output_type": "stream",
     "text": [
      "2022-12-01 15:10:32.504455: I tensorflow/core/platform/cpu_feature_guard.cc:193] This TensorFlow binary is optimized with oneAPI Deep Neural Network Library (oneDNN) to use the following CPU instructions in performance-critical operations:  AVX2 FMA\n",
      "To enable them in other operations, rebuild TensorFlow with the appropriate compiler flags.\n"
     ]
    }
   ],
   "source": [
    "import tensorflow\n",
    "from tensorflow.keras import layers\n",
    "from tensorflow.keras import Input\n",
    "from tensorflow.keras.models import Model\n",
    "from tensorflow.keras.callbacks import ModelCheckpoint, ReduceLROnPlateau, EarlyStopping\n",
    "import pandas as pd"
   ]
  },
  {
   "cell_type": "code",
   "execution_count": 2,
   "metadata": {
    "id": "skKfREtlLrqm"
   },
   "outputs": [],
   "source": [
    "symptom_data = pd.read_csv(\"./datasets/combined.csv\")\n",
    "media_data = pd.read_csv(\"./datasets/media_count_ratio_all_2021.csv\")"
   ]
  },
  {
   "cell_type": "code",
   "execution_count": 3,
   "metadata": {
    "colab": {
     "base_uri": "https://localhost:8080/",
     "height": 419
    },
    "id": "NXnQQK9-MU_l",
    "outputId": "fb57f122-3097-4e4d-80af-40d7f98fc46f"
   },
   "outputs": [
    {
     "data": {
      "text/html": [
       "<div>\n",
       "<style scoped>\n",
       "    .dataframe tbody tr th:only-of-type {\n",
       "        vertical-align: middle;\n",
       "    }\n",
       "\n",
       "    .dataframe tbody tr th {\n",
       "        vertical-align: top;\n",
       "    }\n",
       "\n",
       "    .dataframe thead th {\n",
       "        text-align: right;\n",
       "    }\n",
       "</style>\n",
       "<table border=\"1\" class=\"dataframe\">\n",
       "  <thead>\n",
       "    <tr style=\"text-align: right;\">\n",
       "      <th></th>\n",
       "      <th>symptom</th>\n",
       "      <th>media</th>\n",
       "      <th>case</th>\n",
       "    </tr>\n",
       "  </thead>\n",
       "  <tbody>\n",
       "    <tr>\n",
       "      <th>0</th>\n",
       "      <td>14.8431</td>\n",
       "      <td>0.019437</td>\n",
       "      <td>15074</td>\n",
       "    </tr>\n",
       "    <tr>\n",
       "      <th>1</th>\n",
       "      <td>14.8717</td>\n",
       "      <td>0.019680</td>\n",
       "      <td>11368</td>\n",
       "    </tr>\n",
       "    <tr>\n",
       "      <th>2</th>\n",
       "      <td>14.7662</td>\n",
       "      <td>0.015565</td>\n",
       "      <td>11209</td>\n",
       "    </tr>\n",
       "    <tr>\n",
       "      <th>3</th>\n",
       "      <td>15.3282</td>\n",
       "      <td>0.013347</td>\n",
       "      <td>12666</td>\n",
       "    </tr>\n",
       "    <tr>\n",
       "      <th>4</th>\n",
       "      <td>15.6898</td>\n",
       "      <td>0.013250</td>\n",
       "      <td>16648</td>\n",
       "    </tr>\n",
       "    <tr>\n",
       "      <th>...</th>\n",
       "      <td>...</td>\n",
       "      <td>...</td>\n",
       "      <td>...</td>\n",
       "    </tr>\n",
       "    <tr>\n",
       "      <th>360</th>\n",
       "      <td>27.0476</td>\n",
       "      <td>0.024868</td>\n",
       "      <td>40780</td>\n",
       "    </tr>\n",
       "    <tr>\n",
       "      <th>361</th>\n",
       "      <td>28.7918</td>\n",
       "      <td>0.000000</td>\n",
       "      <td>67090</td>\n",
       "    </tr>\n",
       "    <tr>\n",
       "      <th>362</th>\n",
       "      <td>28.3798</td>\n",
       "      <td>0.056667</td>\n",
       "      <td>74207</td>\n",
       "    </tr>\n",
       "    <tr>\n",
       "      <th>363</th>\n",
       "      <td>27.3794</td>\n",
       "      <td>0.033786</td>\n",
       "      <td>76555</td>\n",
       "    </tr>\n",
       "    <tr>\n",
       "      <th>364</th>\n",
       "      <td>24.3362</td>\n",
       "      <td>0.000000</td>\n",
       "      <td>85476</td>\n",
       "    </tr>\n",
       "  </tbody>\n",
       "</table>\n",
       "<p>365 rows × 3 columns</p>\n",
       "</div>"
      ],
      "text/plain": [
       "     symptom     media   case\n",
       "0    14.8431  0.019437  15074\n",
       "1    14.8717  0.019680  11368\n",
       "2    14.7662  0.015565  11209\n",
       "3    15.3282  0.013347  12666\n",
       "4    15.6898  0.013250  16648\n",
       "..       ...       ...    ...\n",
       "360  27.0476  0.024868  40780\n",
       "361  28.7918  0.000000  67090\n",
       "362  28.3798  0.056667  74207\n",
       "363  27.3794  0.033786  76555\n",
       "364  24.3362  0.000000  85476\n",
       "\n",
       "[365 rows x 3 columns]"
      ]
     },
     "execution_count": 3,
     "metadata": {},
     "output_type": "execute_result"
    }
   ],
   "source": [
    "symptom = \"symptom:combined\"\n",
    "\n",
    "\n",
    "a = symptom_data[symptom]\n",
    "b = media_data[symptom]\n",
    "c = symptom_data[\"daily_new_positives\"]\n",
    "\n",
    "\n",
    "features = [\"symptom\", \"media\"]\n",
    "target = \"case\"\n",
    "\n",
    "\n",
    "df = pd.concat([a, b, c], axis=1)\n",
    "df.columns = features + [target]\n",
    "df"
   ]
  },
  {
   "cell_type": "code",
   "execution_count": 4,
   "metadata": {
    "id": "FtouweVcMbVF"
   },
   "outputs": [],
   "source": [
    "test_start = int(365 * 0.8)\n",
    "\n",
    "df_train = df.loc[:test_start].copy()\n",
    "df_test = df.loc[test_start:].copy()"
   ]
  },
  {
   "cell_type": "code",
   "execution_count": 5,
   "metadata": {
    "colab": {
     "base_uri": "https://localhost:8080/"
    },
    "id": "pw1US4cDM4VE",
    "outputId": "b2833c96-8e3a-462e-839c-2a22671918db"
   },
   "outputs": [],
   "source": [
    "X_train = df_train[[\"symptom\", \"media\"]]\n",
    "X_test = df_test[[\"symptom\", \"media\"]]\n",
    "\n",
    "y_train = df_train[[\"case\"]]\n",
    "y_test = df_test[[\"case\"]]"
   ]
  },
  {
   "cell_type": "code",
   "execution_count": 6,
   "metadata": {
    "id": "aymk12TIM8Rc"
   },
   "outputs": [],
   "source": [
    "import numpy as np\n",
    "from numpy import hstack"
   ]
  },
  {
   "cell_type": "code",
   "execution_count": 7,
   "metadata": {
    "id": "p0ZIEon5MeVT"
   },
   "outputs": [],
   "source": [
    "input_feat1 = np.array(X_train[\"symptom\"])\n",
    "input_feat2 = np.array(X_train[\"media\"])\n",
    "out_seq_train = np.array(y_train[\"case\"])"
   ]
  },
  {
   "cell_type": "code",
   "execution_count": 8,
   "metadata": {
    "id": "yLDeBUJ5NJ_C"
   },
   "outputs": [],
   "source": [
    "input_feat1 = input_feat1.reshape((len(input_feat1), 1))\n",
    "input_feat2 = input_feat2.reshape((len(input_feat2), 1))\n",
    "out_seq_train = out_seq_train.reshape((len(out_seq_train), 1))"
   ]
  },
  {
   "cell_type": "code",
   "execution_count": 9,
   "metadata": {
    "id": "0vyIKpOMNN8m"
   },
   "outputs": [],
   "source": [
    "train_mod = hstack((input_feat1, input_feat2, out_seq_train))"
   ]
  },
  {
   "cell_type": "code",
   "execution_count": 10,
   "metadata": {
    "id": "zD63KmswNcEN"
   },
   "outputs": [],
   "source": [
    "input_feat1 = np.array(X_test[\"symptom\"])\n",
    "input_feat2 = np.array(X_test[\"media\"])\n",
    "out_seq_test = np.array(y_test[\"case\"])"
   ]
  },
  {
   "cell_type": "code",
   "execution_count": 11,
   "metadata": {
    "id": "Qs3siOtxNp-p"
   },
   "outputs": [],
   "source": [
    "input_feat1 = input_feat1.reshape((len(input_feat1), 1))\n",
    "input_feat2 = input_feat2.reshape((len(input_feat2), 1))\n",
    "out_seq_test = out_seq_test.reshape((len(out_seq_test), 1))"
   ]
  },
  {
   "cell_type": "code",
   "execution_count": 12,
   "metadata": {
    "id": "M9PrKDetNrv9"
   },
   "outputs": [],
   "source": [
    "test_mod = hstack((input_feat1, input_feat2, out_seq_test))"
   ]
  },
  {
   "cell_type": "code",
   "execution_count": 13,
   "metadata": {
    "id": "HdE-r7EMNzCz"
   },
   "outputs": [],
   "source": [
    "from keras.preprocessing.sequence import TimeseriesGenerator\n",
    "\n",
    "n_features = train_mod.shape[1]\n",
    "n_input = 7\n",
    "\n",
    "store_2 = len(train_mod)\n",
    "\n",
    "time_for_train = TimeseriesGenerator(\n",
    "    train_mod, out_seq_train, length=n_input, batch_size=store_2\n",
    ")"
   ]
  },
  {
   "cell_type": "code",
   "execution_count": 14,
   "metadata": {
    "id": "XD714dEtOFnO"
   },
   "outputs": [],
   "source": [
    "time_for_test = TimeseriesGenerator(\n",
    "    test_mod, out_seq_test, length=n_input, batch_size=1\n",
    ")"
   ]
  },
  {
   "cell_type": "code",
   "execution_count": 15,
   "metadata": {
    "colab": {
     "base_uri": "https://localhost:8080/"
    },
    "id": "dOjNvwoEOLf3",
    "outputId": "6eb03817-ab5a-43ad-ac88-b0f6ae8ce295"
   },
   "outputs": [
    {
     "name": "stdout",
     "output_type": "stream",
     "text": [
      "steps, feats: 7 3\n"
     ]
    }
   ],
   "source": [
    "print(\"steps, feats:\", n_input, n_features)"
   ]
  },
  {
   "cell_type": "code",
   "execution_count": 16,
   "metadata": {
    "id": "jwjQcDV9OZR0"
   },
   "outputs": [],
   "source": [
    "from keras.models import Sequential\n",
    "from keras.layers import Dense\n",
    "from keras.layers import LSTM\n",
    "from keras.layers import RNN, SimpleRNN\n",
    "from keras.preprocessing.sequence import TimeseriesGenerator\n",
    "from keras.layers import Dropout\n",
    "from keras.optimizers import Adam\n",
    "from keras.layers.core import Activation\n",
    "from keras.callbacks import LambdaCallback\n",
    "from sklearn.preprocessing import MinMaxScaler"
   ]
  },
  {
   "cell_type": "code",
   "execution_count": 17,
   "metadata": {
    "colab": {
     "base_uri": "https://localhost:8080/"
    },
    "id": "0RsVMAV3ORJN",
    "outputId": "92622e1c-71b9-4af5-8c81-156317adfb9e"
   },
   "outputs": [
    {
     "name": "stderr",
     "output_type": "stream",
     "text": [
      "2022-12-01 15:10:39.296663: I tensorflow/core/platform/cpu_feature_guard.cc:193] This TensorFlow binary is optimized with oneAPI Deep Neural Network Library (oneDNN) to use the following CPU instructions in performance-critical operations:  AVX2 FMA\n",
      "To enable them in other operations, rebuild TensorFlow with the appropriate compiler flags.\n",
      "/Users/mohit/opt/miniconda3/lib/python3.9/site-packages/keras/optimizers/optimizer_v2/adam.py:117: UserWarning: The `lr` argument is deprecated, use `learning_rate` instead.\n",
      "  super().__init__(name, **kwargs)\n"
     ]
    }
   ],
   "source": [
    "model = Sequential()\n",
    "\n",
    "model.add(\n",
    "    SimpleRNN(\n",
    "        6, activation=\"relu\", input_shape=(n_input, n_features), return_sequences=False\n",
    "    )\n",
    ")\n",
    "model.add(Dense(1, activation=\"relu\"))\n",
    "\n",
    "adam = Adam(lr=0.01)\n",
    "model.compile(optimizer=adam, loss=\"mse\")"
   ]
  },
  {
   "cell_type": "code",
   "execution_count": 18,
   "metadata": {
    "colab": {
     "base_uri": "https://localhost:8080/"
    },
    "id": "euNIXvNwOVTh",
    "outputId": "2986c36d-6047-44a6-ad50-a18d75a0a62a"
   },
   "outputs": [
    {
     "name": "stdout",
     "output_type": "stream",
     "text": [
      "Model: \"sequential\"\n",
      "_________________________________________________________________\n",
      " Layer (type)                Output Shape              Param #   \n",
      "=================================================================\n",
      " simple_rnn (SimpleRNN)      (None, 6)                 60        \n",
      "                                                                 \n",
      " dense (Dense)               (None, 1)                 7         \n",
      "                                                                 \n",
      "=================================================================\n",
      "Total params: 67\n",
      "Trainable params: 67\n",
      "Non-trainable params: 0\n",
      "_________________________________________________________________\n"
     ]
    }
   ],
   "source": [
    "model.summary()"
   ]
  },
  {
   "cell_type": "code",
   "execution_count": 19,
   "metadata": {
    "colab": {
     "base_uri": "https://localhost:8080/"
    },
    "id": "b0HfyYdsOemF",
    "outputId": "ada91aa3-fe0e-41cf-c9a5-61ed470ae2b0"
   },
   "outputs": [
    {
     "name": "stdout",
     "output_type": "stream",
     "text": [
      "Epoch 1/150\n"
     ]
    },
    {
     "name": "stderr",
     "output_type": "stream",
     "text": [
      "/var/folders/18/4s2_njc94pv_nkk_33fxl4700000gn/T/ipykernel_1975/2090982379.py:1: UserWarning: `Model.fit_generator` is deprecated and will be removed in a future version. Please use `Model.fit`, which supports generators.\n",
      "  score = model.fit_generator(\n"
     ]
    },
    {
     "name": "stdout",
     "output_type": "stream",
     "text": [
      "1/1 [==============================] - 1s 979ms/step - loss: 11843231.0000 - val_loss: 270827520.0000\n",
      "Epoch 2/150\n",
      "1/1 [==============================] - 0s 98ms/step - loss: 9687985.0000 - val_loss: 239882000.0000\n",
      "Epoch 3/150\n",
      "1/1 [==============================] - 0s 99ms/step - loss: 7621299.0000 - val_loss: 209190304.0000\n",
      "Epoch 4/150\n",
      "1/1 [==============================] - 0s 100ms/step - loss: 5611441.0000 - val_loss: 178572688.0000\n",
      "Epoch 5/150\n",
      "1/1 [==============================] - 0s 97ms/step - loss: 3790253.7500 - val_loss: 148142800.0000\n",
      "Epoch 6/150\n",
      "1/1 [==============================] - 0s 100ms/step - loss: 2349406.7500 - val_loss: 118689680.0000\n",
      "Epoch 7/150\n",
      "1/1 [==============================] - 0s 104ms/step - loss: 1468031.8750 - val_loss: 92360008.0000\n",
      "Epoch 8/150\n",
      "1/1 [==============================] - 0s 100ms/step - loss: 1286166.8750 - val_loss: 71795624.0000\n",
      "Epoch 9/150\n",
      "1/1 [==============================] - 0s 96ms/step - loss: 1749079.6250 - val_loss: 59652756.0000\n",
      "Epoch 10/150\n",
      "1/1 [==============================] - 0s 97ms/step - loss: 2415787.0000 - val_loss: 54592020.0000\n",
      "Epoch 11/150\n",
      "1/1 [==============================] - 0s 107ms/step - loss: 2826636.7500 - val_loss: 53853296.0000\n",
      "Epoch 12/150\n",
      "1/1 [==============================] - 0s 98ms/step - loss: 2841770.5000 - val_loss: 56258744.0000\n",
      "Epoch 13/150\n",
      "1/1 [==============================] - 0s 98ms/step - loss: 2550314.0000 - val_loss: 61179420.0000\n",
      "Epoch 14/150\n",
      "1/1 [==============================] - 0s 97ms/step - loss: 2126906.7500 - val_loss: 68139568.0000\n",
      "Epoch 15/150\n",
      "1/1 [==============================] - 0s 107ms/step - loss: 1721297.2500 - val_loss: 76550528.0000\n",
      "Epoch 16/150\n",
      "1/1 [==============================] - 0s 91ms/step - loss: 1416093.3750 - val_loss: 85431576.0000\n",
      "Epoch 17/150\n",
      "1/1 [==============================] - 0s 91ms/step - loss: 1251705.6250 - val_loss: 94098912.0000\n",
      "Epoch 18/150\n",
      "1/1 [==============================] - 0s 99ms/step - loss: 1219884.7500 - val_loss: 102259680.0000\n",
      "Epoch 19/150\n",
      "1/1 [==============================] - 0s 97ms/step - loss: 1278174.8750 - val_loss: 108698496.0000\n",
      "Epoch 20/150\n",
      "1/1 [==============================] - 0s 102ms/step - loss: 1372946.8750 - val_loss: 113133808.0000\n",
      "Epoch 21/150\n",
      "1/1 [==============================] - 0s 90ms/step - loss: 1459702.5000 - val_loss: 115775968.0000\n",
      "Epoch 22/150\n",
      "1/1 [==============================] - 0s 91ms/step - loss: 1522090.5000 - val_loss: 116800664.0000\n",
      "Epoch 23/150\n",
      "1/1 [==============================] - 0s 93ms/step - loss: 1550040.6250 - val_loss: 116356512.0000\n",
      "Epoch 24/150\n",
      "1/1 [==============================] - 0s 89ms/step - loss: 1541686.7500 - val_loss: 114603600.0000\n",
      "Epoch 25/150\n",
      "1/1 [==============================] - 0s 92ms/step - loss: 1501689.5000 - val_loss: 111909440.0000\n",
      "Epoch 26/150\n",
      "1/1 [==============================] - 0s 94ms/step - loss: 1440179.2500 - val_loss: 108353560.0000\n",
      "Epoch 27/150\n",
      "1/1 [==============================] - 0s 91ms/step - loss: 1366662.8750 - val_loss: 104113400.0000\n",
      "Epoch 28/150\n",
      "1/1 [==============================] - 0s 92ms/step - loss: 1292388.0000 - val_loss: 99514768.0000\n",
      "Epoch 29/150\n",
      "1/1 [==============================] - 0s 90ms/step - loss: 1228042.2500 - val_loss: 94817152.0000\n",
      "Epoch 30/150\n",
      "1/1 [==============================] - 0s 92ms/step - loss: 1182570.8750 - val_loss: 90268888.0000\n",
      "Epoch 31/150\n",
      "1/1 [==============================] - 0s 93ms/step - loss: 1158957.0000 - val_loss: 86098400.0000\n",
      "Epoch 32/150\n",
      "1/1 [==============================] - 0s 95ms/step - loss: 1156526.2500 - val_loss: 82507016.0000\n",
      "Epoch 33/150\n",
      "1/1 [==============================] - 0s 92ms/step - loss: 1169943.7500 - val_loss: 79651944.0000\n",
      "Epoch 34/150\n",
      "1/1 [==============================] - 0s 94ms/step - loss: 1190778.8750 - val_loss: 77577216.0000\n",
      "Epoch 35/150\n",
      "1/1 [==============================] - 0s 101ms/step - loss: 1208920.0000 - val_loss: 76309432.0000\n",
      "Epoch 36/150\n",
      "1/1 [==============================] - 0s 101ms/step - loss: 1216825.8750 - val_loss: 75828912.0000\n",
      "Epoch 37/150\n",
      "1/1 [==============================] - 0s 91ms/step - loss: 1210329.1250 - val_loss: 76039344.0000\n",
      "Epoch 38/150\n",
      "1/1 [==============================] - 0s 91ms/step - loss: 1189485.8750 - val_loss: 76860088.0000\n",
      "Epoch 39/150\n",
      "1/1 [==============================] - 0s 101ms/step - loss: 1158066.7500 - val_loss: 78150104.0000\n",
      "Epoch 40/150\n",
      "1/1 [==============================] - 0s 252ms/step - loss: 1122390.0000 - val_loss: 79760976.0000\n",
      "Epoch 41/150\n",
      "1/1 [==============================] - 0s 190ms/step - loss: 1091251.2500 - val_loss: 81488864.0000\n",
      "Epoch 42/150\n",
      "1/1 [==============================] - 0s 179ms/step - loss: 1065749.8750 - val_loss: 83092408.0000\n",
      "Epoch 43/150\n",
      "1/1 [==============================] - 0s 104ms/step - loss: 1048174.5625 - val_loss: 84158000.0000\n",
      "Epoch 44/150\n",
      "1/1 [==============================] - 0s 101ms/step - loss: 1042607.3125 - val_loss: 84819848.0000\n",
      "Epoch 45/150\n",
      "1/1 [==============================] - 0s 98ms/step - loss: 1037868.3125 - val_loss: 84878944.0000\n",
      "Epoch 46/150\n",
      "1/1 [==============================] - 0s 115ms/step - loss: 1026737.4375 - val_loss: 84386264.0000\n",
      "Epoch 47/150\n",
      "1/1 [==============================] - 0s 107ms/step - loss: 1015105.8750 - val_loss: 83300248.0000\n",
      "Epoch 48/150\n",
      "1/1 [==============================] - 0s 98ms/step - loss: 1006815.4375 - val_loss: 81621368.0000\n",
      "Epoch 49/150\n",
      "1/1 [==============================] - 0s 100ms/step - loss: 993419.4375 - val_loss: 79483088.0000\n",
      "Epoch 50/150\n",
      "1/1 [==============================] - 0s 110ms/step - loss: 976379.5000 - val_loss: 77079040.0000\n",
      "Epoch 51/150\n",
      "1/1 [==============================] - 0s 102ms/step - loss: 959180.1875 - val_loss: 74540008.0000\n",
      "Epoch 52/150\n",
      "1/1 [==============================] - 0s 98ms/step - loss: 944361.6250 - val_loss: 72002992.0000\n",
      "Epoch 53/150\n",
      "1/1 [==============================] - 0s 100ms/step - loss: 933554.5625 - val_loss: 69597288.0000\n",
      "Epoch 54/150\n",
      "1/1 [==============================] - 0s 108ms/step - loss: 927066.0000 - val_loss: 67440304.0000\n",
      "Epoch 55/150\n",
      "1/1 [==============================] - 0s 154ms/step - loss: 923408.0625 - val_loss: 65649376.0000\n",
      "Epoch 56/150\n",
      "1/1 [==============================] - 0s 269ms/step - loss: 920141.3125 - val_loss: 64324804.0000\n",
      "Epoch 57/150\n",
      "1/1 [==============================] - 0s 105ms/step - loss: 914577.9375 - val_loss: 63388456.0000\n",
      "Epoch 58/150\n",
      "1/1 [==============================] - 0s 118ms/step - loss: 905964.9375 - val_loss: 62795608.0000\n",
      "Epoch 59/150\n",
      "1/1 [==============================] - 0s 121ms/step - loss: 894621.5000 - val_loss: 62463664.0000\n",
      "Epoch 60/150\n",
      "1/1 [==============================] - 0s 103ms/step - loss: 882531.5625 - val_loss: 62404568.0000\n",
      "Epoch 61/150\n",
      "1/1 [==============================] - 0s 101ms/step - loss: 872045.3125 - val_loss: 62468532.0000\n",
      "Epoch 62/150\n",
      "1/1 [==============================] - 0s 110ms/step - loss: 863593.1250 - val_loss: 62552780.0000\n",
      "Epoch 63/150\n",
      "1/1 [==============================] - 0s 112ms/step - loss: 859561.1875 - val_loss: 62529984.0000\n",
      "Epoch 64/150\n",
      "1/1 [==============================] - 0s 100ms/step - loss: 857392.4375 - val_loss: 62145848.0000\n",
      "Epoch 65/150\n",
      "1/1 [==============================] - 0s 117ms/step - loss: 856092.0625 - val_loss: 61341236.0000\n",
      "Epoch 66/150\n",
      "1/1 [==============================] - 0s 131ms/step - loss: 851248.5625 - val_loss: 60117828.0000\n",
      "Epoch 67/150\n",
      "1/1 [==============================] - 0s 128ms/step - loss: 843443.4375 - val_loss: 58595576.0000\n",
      "Epoch 68/150\n",
      "1/1 [==============================] - 0s 102ms/step - loss: 835553.3125 - val_loss: 56957592.0000\n",
      "Epoch 69/150\n",
      "1/1 [==============================] - 0s 96ms/step - loss: 828879.5000 - val_loss: 55363700.0000\n",
      "Epoch 70/150\n",
      "1/1 [==============================] - 0s 110ms/step - loss: 825067.5000 - val_loss: 53956096.0000\n",
      "Epoch 71/150\n",
      "1/1 [==============================] - 0s 105ms/step - loss: 822653.5000 - val_loss: 52838548.0000\n",
      "Epoch 72/150\n",
      "1/1 [==============================] - 0s 112ms/step - loss: 819308.0000 - val_loss: 52040164.0000\n",
      "Epoch 73/150\n",
      "1/1 [==============================] - 0s 110ms/step - loss: 813412.5625 - val_loss: 51512768.0000\n",
      "Epoch 74/150\n",
      "1/1 [==============================] - 0s 102ms/step - loss: 805660.7500 - val_loss: 51181288.0000\n",
      "Epoch 75/150\n",
      "1/1 [==============================] - 0s 98ms/step - loss: 798663.1250 - val_loss: 50908920.0000\n",
      "Epoch 76/150\n",
      "1/1 [==============================] - 0s 94ms/step - loss: 793357.5000 - val_loss: 50486104.0000\n",
      "Epoch 77/150\n",
      "1/1 [==============================] - 0s 94ms/step - loss: 788445.6250 - val_loss: 49794972.0000\n",
      "Epoch 78/150\n",
      "1/1 [==============================] - 0s 95ms/step - loss: 782583.8750 - val_loss: 48962380.0000\n",
      "Epoch 79/150\n",
      "1/1 [==============================] - 0s 92ms/step - loss: 776242.8750 - val_loss: 47897708.0000\n",
      "Epoch 80/150\n",
      "1/1 [==============================] - 0s 101ms/step - loss: 769002.9375 - val_loss: 46729092.0000\n",
      "Epoch 81/150\n",
      "1/1 [==============================] - 0s 95ms/step - loss: 763939.9375 - val_loss: 45874352.0000\n",
      "Epoch 82/150\n",
      "1/1 [==============================] - 0s 94ms/step - loss: 761727.1250 - val_loss: 45515328.0000\n",
      "Epoch 83/150\n",
      "1/1 [==============================] - 0s 151ms/step - loss: 759023.4375 - val_loss: 45601936.0000\n",
      "Epoch 84/150\n",
      "1/1 [==============================] - 0s 116ms/step - loss: 754350.0625 - val_loss: 46044484.0000\n",
      "Epoch 85/150\n",
      "1/1 [==============================] - 0s 106ms/step - loss: 749351.9375 - val_loss: 46492480.0000\n",
      "Epoch 86/150\n",
      "1/1 [==============================] - 0s 105ms/step - loss: 746243.4375 - val_loss: 46603600.0000\n",
      "Epoch 87/150\n",
      "1/1 [==============================] - 0s 126ms/step - loss: 742874.4375 - val_loss: 46598832.0000\n",
      "Epoch 88/150\n",
      "1/1 [==============================] - 0s 108ms/step - loss: 736443.6250 - val_loss: 46028152.0000\n",
      "Epoch 89/150\n",
      "1/1 [==============================] - 0s 100ms/step - loss: 729933.6250 - val_loss: 45535212.0000\n",
      "Epoch 90/150\n",
      "1/1 [==============================] - 0s 106ms/step - loss: 726321.0625 - val_loss: 45737076.0000\n",
      "Epoch 91/150\n",
      "1/1 [==============================] - 0s 96ms/step - loss: 721052.5625 - val_loss: 46529180.0000\n",
      "Epoch 92/150\n",
      "1/1 [==============================] - 0s 100ms/step - loss: 715114.0625 - val_loss: 47300732.0000\n",
      "Epoch 93/150\n",
      "1/1 [==============================] - 0s 107ms/step - loss: 712291.4375 - val_loss: 47302796.0000\n",
      "Epoch 94/150\n",
      "1/1 [==============================] - 0s 99ms/step - loss: 708706.9375 - val_loss: 46642836.0000\n",
      "Epoch 95/150\n",
      "1/1 [==============================] - 0s 98ms/step - loss: 704183.0625 - val_loss: 45992312.0000\n",
      "Epoch 96/150\n",
      "1/1 [==============================] - 0s 99ms/step - loss: 702403.8750 - val_loss: 46202960.0000\n",
      "Epoch 97/150\n",
      "1/1 [==============================] - 0s 96ms/step - loss: 698201.8750 - val_loss: 46929876.0000\n",
      "Epoch 98/150\n",
      "1/1 [==============================] - 0s 101ms/step - loss: 695691.4375 - val_loss: 46912540.0000\n",
      "Epoch 99/150\n",
      "1/1 [==============================] - 0s 100ms/step - loss: 693893.7500 - val_loss: 45985884.0000\n",
      "Epoch 100/150\n",
      "1/1 [==============================] - 0s 97ms/step - loss: 690927.5625 - val_loss: 45380916.0000\n",
      "Epoch 101/150\n",
      "1/1 [==============================] - 0s 93ms/step - loss: 689964.1875 - val_loss: 45921076.0000\n",
      "Epoch 102/150\n",
      "1/1 [==============================] - 0s 95ms/step - loss: 687116.6250 - val_loss: 46472464.0000\n",
      "Epoch 103/150\n",
      "1/1 [==============================] - 0s 93ms/step - loss: 686568.8125 - val_loss: 45818468.0000\n",
      "Epoch 104/150\n",
      "1/1 [==============================] - 0s 96ms/step - loss: 683992.3750 - val_loss: 45087396.0000\n",
      "Epoch 105/150\n",
      "1/1 [==============================] - 0s 93ms/step - loss: 683218.3125 - val_loss: 45756076.0000\n",
      "Epoch 106/150\n",
      "1/1 [==============================] - 0s 102ms/step - loss: 680800.1250 - val_loss: 46332284.0000\n",
      "Epoch 107/150\n",
      "1/1 [==============================] - 0s 94ms/step - loss: 680702.5000 - val_loss: 45492528.0000\n",
      "Epoch 108/150\n",
      "1/1 [==============================] - 0s 95ms/step - loss: 678672.8125 - val_loss: 45213584.0000\n",
      "Epoch 109/150\n",
      "1/1 [==============================] - 0s 97ms/step - loss: 678109.0625 - val_loss: 46291136.0000\n",
      "Epoch 110/150\n",
      "1/1 [==============================] - 0s 96ms/step - loss: 676744.8750 - val_loss: 46160408.0000\n",
      "Epoch 111/150\n",
      "1/1 [==============================] - 0s 99ms/step - loss: 675433.3750 - val_loss: 45466664.0000\n",
      "Epoch 112/150\n",
      "1/1 [==============================] - 0s 100ms/step - loss: 675328.1250 - val_loss: 46550940.0000\n",
      "Epoch 113/150\n",
      "1/1 [==============================] - 0s 102ms/step - loss: 673637.1250 - val_loss: 46768820.0000\n",
      "Epoch 114/150\n",
      "1/1 [==============================] - 0s 103ms/step - loss: 672653.3125 - val_loss: 46059808.0000\n",
      "Epoch 115/150\n",
      "1/1 [==============================] - 0s 108ms/step - loss: 672248.9375 - val_loss: 47286692.0000\n",
      "Epoch 116/150\n",
      "1/1 [==============================] - 0s 126ms/step - loss: 671007.5625 - val_loss: 47226560.0000\n",
      "Epoch 117/150\n",
      "1/1 [==============================] - 0s 102ms/step - loss: 669908.7500 - val_loss: 46821440.0000\n",
      "Epoch 118/150\n",
      "1/1 [==============================] - 0s 113ms/step - loss: 669883.0625 - val_loss: 48248044.0000\n",
      "Epoch 119/150\n",
      "1/1 [==============================] - 0s 112ms/step - loss: 669907.0000 - val_loss: 47383812.0000\n",
      "Epoch 120/150\n",
      "1/1 [==============================] - 0s 100ms/step - loss: 669124.1875 - val_loss: 48039980.0000\n",
      "Epoch 121/150\n",
      "1/1 [==============================] - 0s 101ms/step - loss: 668461.5000 - val_loss: 48646164.0000\n",
      "Epoch 122/150\n",
      "1/1 [==============================] - 0s 110ms/step - loss: 668424.8750 - val_loss: 47915300.0000\n",
      "Epoch 123/150\n",
      "1/1 [==============================] - 0s 104ms/step - loss: 668427.9375 - val_loss: 49232012.0000\n",
      "Epoch 124/150\n",
      "1/1 [==============================] - 0s 102ms/step - loss: 667948.5000 - val_loss: 48655552.0000\n",
      "Epoch 125/150\n",
      "1/1 [==============================] - 0s 103ms/step - loss: 667094.5000 - val_loss: 48934336.0000\n",
      "Epoch 126/150\n",
      "1/1 [==============================] - 0s 110ms/step - loss: 666572.0000 - val_loss: 49624792.0000\n",
      "Epoch 127/150\n",
      "1/1 [==============================] - 0s 101ms/step - loss: 666476.1250 - val_loss: 48912276.0000\n",
      "Epoch 128/150\n",
      "1/1 [==============================] - 0s 101ms/step - loss: 666140.2500 - val_loss: 49705664.0000\n",
      "Epoch 129/150\n",
      "1/1 [==============================] - 0s 105ms/step - loss: 665611.9375 - val_loss: 49624084.0000\n",
      "Epoch 130/150\n",
      "1/1 [==============================] - 0s 102ms/step - loss: 665226.0625 - val_loss: 49332604.0000\n",
      "Epoch 131/150\n",
      "1/1 [==============================] - 0s 101ms/step - loss: 665073.5625 - val_loss: 50026744.0000\n",
      "Epoch 132/150\n",
      "1/1 [==============================] - 0s 134ms/step - loss: 664722.0625 - val_loss: 49626324.0000\n",
      "Epoch 133/150\n",
      "1/1 [==============================] - 0s 126ms/step - loss: 664166.6875 - val_loss: 49716976.0000\n",
      "Epoch 134/150\n",
      "1/1 [==============================] - 0s 120ms/step - loss: 663764.8750 - val_loss: 50162376.0000\n",
      "Epoch 135/150\n",
      "1/1 [==============================] - 0s 105ms/step - loss: 663513.3750 - val_loss: 49726096.0000\n",
      "Epoch 136/150\n",
      "1/1 [==============================] - 0s 148ms/step - loss: 663094.6250 - val_loss: 50056300.0000\n",
      "Epoch 137/150\n",
      "1/1 [==============================] - 0s 124ms/step - loss: 662386.5000 - val_loss: 50246000.0000\n",
      "Epoch 138/150\n",
      "1/1 [==============================] - 0s 184ms/step - loss: 661979.3750 - val_loss: 50023728.0000\n",
      "Epoch 139/150\n",
      "1/1 [==============================] - 0s 118ms/step - loss: 661633.9375 - val_loss: 50386488.0000\n",
      "Epoch 140/150\n",
      "1/1 [==============================] - 0s 135ms/step - loss: 661190.8125 - val_loss: 50317708.0000\n",
      "Epoch 141/150\n",
      "1/1 [==============================] - 0s 134ms/step - loss: 660815.3750 - val_loss: 50273668.0000\n",
      "Epoch 142/150\n",
      "1/1 [==============================] - 0s 124ms/step - loss: 660057.3125 - val_loss: 50587672.0000\n",
      "Epoch 143/150\n",
      "1/1 [==============================] - 0s 154ms/step - loss: 660062.3750 - val_loss: 50357332.0000\n",
      "Epoch 144/150\n",
      "1/1 [==============================] - 0s 135ms/step - loss: 660090.2500 - val_loss: 50576660.0000\n",
      "Epoch 145/150\n",
      "1/1 [==============================] - 0s 102ms/step - loss: 659910.9375 - val_loss: 50686616.0000\n",
      "Epoch 146/150\n",
      "1/1 [==============================] - 0s 98ms/step - loss: 659629.6250 - val_loss: 50527680.0000\n",
      "Epoch 147/150\n",
      "1/1 [==============================] - 0s 97ms/step - loss: 659336.0000 - val_loss: 50911224.0000\n",
      "Epoch 148/150\n",
      "1/1 [==============================] - 0s 95ms/step - loss: 659072.0000 - val_loss: 50780496.0000\n",
      "Epoch 149/150\n",
      "1/1 [==============================] - 0s 92ms/step - loss: 658904.0625 - val_loss: 50906492.0000\n",
      "Epoch 150/150\n",
      "1/1 [==============================] - 0s 109ms/step - loss: 659032.3125 - val_loss: 51039936.0000\n"
     ]
    }
   ],
   "source": [
    "score = model.fit_generator(\n",
    "    time_for_train,\n",
    "    epochs=150,\n",
    "    verbose=1,\n",
    "    validation_data=time_for_test,\n",
    "    shuffle=False,\n",
    ")"
   ]
  },
  {
   "cell_type": "code",
   "execution_count": 20,
   "metadata": {
    "id": "D9uX6CdcOshq"
   },
   "outputs": [],
   "source": [
    "import matplotlib.pyplot as plt"
   ]
  },
  {
   "cell_type": "code",
   "execution_count": 21,
   "metadata": {
    "colab": {
     "base_uri": "https://localhost:8080/"
    },
    "id": "LYm9NdpKOq9a",
    "outputId": "ac0f2524-4f18-4cde-c56c-f2b3f8e320f8"
   },
   "outputs": [
    {
     "name": "stdout",
     "output_type": "stream",
     "text": [
      "1/1 - 0s - 123ms/epoch - 123ms/step\n",
      "1/1 - 0s - 15ms/epoch - 15ms/step\n",
      "1/1 - 0s - 15ms/epoch - 15ms/step\n",
      "1/1 - 0s - 14ms/epoch - 14ms/step\n",
      "1/1 - 0s - 14ms/epoch - 14ms/step\n"
     ]
    },
    {
     "name": "stderr",
     "output_type": "stream",
     "text": [
      "/var/folders/18/4s2_njc94pv_nkk_33fxl4700000gn/T/ipykernel_1975/1088707662.py:13: FutureWarning: The frame.append method is deprecated and will be removed from pandas in a future version. Use pandas.concat instead.\n",
      "  df_result = df_result.append({\"Actual\": y, \"Prediction\": store_yhat}, ignore_index=True)\n",
      "/var/folders/18/4s2_njc94pv_nkk_33fxl4700000gn/T/ipykernel_1975/1088707662.py:13: FutureWarning: The frame.append method is deprecated and will be removed from pandas in a future version. Use pandas.concat instead.\n",
      "  df_result = df_result.append({\"Actual\": y, \"Prediction\": store_yhat}, ignore_index=True)\n",
      "/var/folders/18/4s2_njc94pv_nkk_33fxl4700000gn/T/ipykernel_1975/1088707662.py:13: FutureWarning: The frame.append method is deprecated and will be removed from pandas in a future version. Use pandas.concat instead.\n",
      "  df_result = df_result.append({\"Actual\": y, \"Prediction\": store_yhat}, ignore_index=True)\n",
      "/var/folders/18/4s2_njc94pv_nkk_33fxl4700000gn/T/ipykernel_1975/1088707662.py:13: FutureWarning: The frame.append method is deprecated and will be removed from pandas in a future version. Use pandas.concat instead.\n",
      "  df_result = df_result.append({\"Actual\": y, \"Prediction\": store_yhat}, ignore_index=True)\n",
      "/var/folders/18/4s2_njc94pv_nkk_33fxl4700000gn/T/ipykernel_1975/1088707662.py:13: FutureWarning: The frame.append method is deprecated and will be removed from pandas in a future version. Use pandas.concat instead.\n",
      "  df_result = df_result.append({\"Actual\": y, \"Prediction\": store_yhat}, ignore_index=True)\n"
     ]
    },
    {
     "name": "stdout",
     "output_type": "stream",
     "text": [
      "1/1 - 0s - 15ms/epoch - 15ms/step\n",
      "1/1 - 0s - 15ms/epoch - 15ms/step\n",
      "1/1 - 0s - 14ms/epoch - 14ms/step\n",
      "1/1 - 0s - 15ms/epoch - 15ms/step\n",
      "1/1 - 0s - 14ms/epoch - 14ms/step\n"
     ]
    },
    {
     "name": "stderr",
     "output_type": "stream",
     "text": [
      "/var/folders/18/4s2_njc94pv_nkk_33fxl4700000gn/T/ipykernel_1975/1088707662.py:13: FutureWarning: The frame.append method is deprecated and will be removed from pandas in a future version. Use pandas.concat instead.\n",
      "  df_result = df_result.append({\"Actual\": y, \"Prediction\": store_yhat}, ignore_index=True)\n",
      "/var/folders/18/4s2_njc94pv_nkk_33fxl4700000gn/T/ipykernel_1975/1088707662.py:13: FutureWarning: The frame.append method is deprecated and will be removed from pandas in a future version. Use pandas.concat instead.\n",
      "  df_result = df_result.append({\"Actual\": y, \"Prediction\": store_yhat}, ignore_index=True)\n",
      "/var/folders/18/4s2_njc94pv_nkk_33fxl4700000gn/T/ipykernel_1975/1088707662.py:13: FutureWarning: The frame.append method is deprecated and will be removed from pandas in a future version. Use pandas.concat instead.\n",
      "  df_result = df_result.append({\"Actual\": y, \"Prediction\": store_yhat}, ignore_index=True)\n",
      "/var/folders/18/4s2_njc94pv_nkk_33fxl4700000gn/T/ipykernel_1975/1088707662.py:13: FutureWarning: The frame.append method is deprecated and will be removed from pandas in a future version. Use pandas.concat instead.\n",
      "  df_result = df_result.append({\"Actual\": y, \"Prediction\": store_yhat}, ignore_index=True)\n",
      "/var/folders/18/4s2_njc94pv_nkk_33fxl4700000gn/T/ipykernel_1975/1088707662.py:13: FutureWarning: The frame.append method is deprecated and will be removed from pandas in a future version. Use pandas.concat instead.\n",
      "  df_result = df_result.append({\"Actual\": y, \"Prediction\": store_yhat}, ignore_index=True)\n"
     ]
    },
    {
     "name": "stdout",
     "output_type": "stream",
     "text": [
      "1/1 - 0s - 16ms/epoch - 16ms/step\n",
      "1/1 - 0s - 15ms/epoch - 15ms/step\n",
      "1/1 - 0s - 15ms/epoch - 15ms/step\n",
      "1/1 - 0s - 14ms/epoch - 14ms/step\n",
      "1/1 - 0s - 15ms/epoch - 15ms/step\n"
     ]
    },
    {
     "name": "stderr",
     "output_type": "stream",
     "text": [
      "/var/folders/18/4s2_njc94pv_nkk_33fxl4700000gn/T/ipykernel_1975/1088707662.py:13: FutureWarning: The frame.append method is deprecated and will be removed from pandas in a future version. Use pandas.concat instead.\n",
      "  df_result = df_result.append({\"Actual\": y, \"Prediction\": store_yhat}, ignore_index=True)\n",
      "/var/folders/18/4s2_njc94pv_nkk_33fxl4700000gn/T/ipykernel_1975/1088707662.py:13: FutureWarning: The frame.append method is deprecated and will be removed from pandas in a future version. Use pandas.concat instead.\n",
      "  df_result = df_result.append({\"Actual\": y, \"Prediction\": store_yhat}, ignore_index=True)\n",
      "/var/folders/18/4s2_njc94pv_nkk_33fxl4700000gn/T/ipykernel_1975/1088707662.py:13: FutureWarning: The frame.append method is deprecated and will be removed from pandas in a future version. Use pandas.concat instead.\n",
      "  df_result = df_result.append({\"Actual\": y, \"Prediction\": store_yhat}, ignore_index=True)\n",
      "/var/folders/18/4s2_njc94pv_nkk_33fxl4700000gn/T/ipykernel_1975/1088707662.py:13: FutureWarning: The frame.append method is deprecated and will be removed from pandas in a future version. Use pandas.concat instead.\n",
      "  df_result = df_result.append({\"Actual\": y, \"Prediction\": store_yhat}, ignore_index=True)\n",
      "/var/folders/18/4s2_njc94pv_nkk_33fxl4700000gn/T/ipykernel_1975/1088707662.py:13: FutureWarning: The frame.append method is deprecated and will be removed from pandas in a future version. Use pandas.concat instead.\n",
      "  df_result = df_result.append({\"Actual\": y, \"Prediction\": store_yhat}, ignore_index=True)\n"
     ]
    },
    {
     "name": "stdout",
     "output_type": "stream",
     "text": [
      "1/1 - 0s - 15ms/epoch - 15ms/step\n",
      "1/1 - 0s - 15ms/epoch - 15ms/step\n",
      "1/1 - 0s - 14ms/epoch - 14ms/step\n",
      "1/1 - 0s - 15ms/epoch - 15ms/step\n",
      "1/1 - 0s - 15ms/epoch - 15ms/step\n"
     ]
    },
    {
     "name": "stderr",
     "output_type": "stream",
     "text": [
      "/var/folders/18/4s2_njc94pv_nkk_33fxl4700000gn/T/ipykernel_1975/1088707662.py:13: FutureWarning: The frame.append method is deprecated and will be removed from pandas in a future version. Use pandas.concat instead.\n",
      "  df_result = df_result.append({\"Actual\": y, \"Prediction\": store_yhat}, ignore_index=True)\n",
      "/var/folders/18/4s2_njc94pv_nkk_33fxl4700000gn/T/ipykernel_1975/1088707662.py:13: FutureWarning: The frame.append method is deprecated and will be removed from pandas in a future version. Use pandas.concat instead.\n",
      "  df_result = df_result.append({\"Actual\": y, \"Prediction\": store_yhat}, ignore_index=True)\n",
      "/var/folders/18/4s2_njc94pv_nkk_33fxl4700000gn/T/ipykernel_1975/1088707662.py:13: FutureWarning: The frame.append method is deprecated and will be removed from pandas in a future version. Use pandas.concat instead.\n",
      "  df_result = df_result.append({\"Actual\": y, \"Prediction\": store_yhat}, ignore_index=True)\n",
      "/var/folders/18/4s2_njc94pv_nkk_33fxl4700000gn/T/ipykernel_1975/1088707662.py:13: FutureWarning: The frame.append method is deprecated and will be removed from pandas in a future version. Use pandas.concat instead.\n",
      "  df_result = df_result.append({\"Actual\": y, \"Prediction\": store_yhat}, ignore_index=True)\n",
      "/var/folders/18/4s2_njc94pv_nkk_33fxl4700000gn/T/ipykernel_1975/1088707662.py:13: FutureWarning: The frame.append method is deprecated and will be removed from pandas in a future version. Use pandas.concat instead.\n",
      "  df_result = df_result.append({\"Actual\": y, \"Prediction\": store_yhat}, ignore_index=True)\n"
     ]
    },
    {
     "name": "stdout",
     "output_type": "stream",
     "text": [
      "1/1 - 0s - 14ms/epoch - 14ms/step\n",
      "1/1 - 0s - 16ms/epoch - 16ms/step\n",
      "1/1 - 0s - 16ms/epoch - 16ms/step\n",
      "1/1 - 0s - 15ms/epoch - 15ms/step\n",
      "1/1 - 0s - 15ms/epoch - 15ms/step\n"
     ]
    },
    {
     "name": "stderr",
     "output_type": "stream",
     "text": [
      "/var/folders/18/4s2_njc94pv_nkk_33fxl4700000gn/T/ipykernel_1975/1088707662.py:13: FutureWarning: The frame.append method is deprecated and will be removed from pandas in a future version. Use pandas.concat instead.\n",
      "  df_result = df_result.append({\"Actual\": y, \"Prediction\": store_yhat}, ignore_index=True)\n",
      "/var/folders/18/4s2_njc94pv_nkk_33fxl4700000gn/T/ipykernel_1975/1088707662.py:13: FutureWarning: The frame.append method is deprecated and will be removed from pandas in a future version. Use pandas.concat instead.\n",
      "  df_result = df_result.append({\"Actual\": y, \"Prediction\": store_yhat}, ignore_index=True)\n",
      "/var/folders/18/4s2_njc94pv_nkk_33fxl4700000gn/T/ipykernel_1975/1088707662.py:13: FutureWarning: The frame.append method is deprecated and will be removed from pandas in a future version. Use pandas.concat instead.\n",
      "  df_result = df_result.append({\"Actual\": y, \"Prediction\": store_yhat}, ignore_index=True)\n",
      "/var/folders/18/4s2_njc94pv_nkk_33fxl4700000gn/T/ipykernel_1975/1088707662.py:13: FutureWarning: The frame.append method is deprecated and will be removed from pandas in a future version. Use pandas.concat instead.\n",
      "  df_result = df_result.append({\"Actual\": y, \"Prediction\": store_yhat}, ignore_index=True)\n",
      "/var/folders/18/4s2_njc94pv_nkk_33fxl4700000gn/T/ipykernel_1975/1088707662.py:13: FutureWarning: The frame.append method is deprecated and will be removed from pandas in a future version. Use pandas.concat instead.\n",
      "  df_result = df_result.append({\"Actual\": y, \"Prediction\": store_yhat}, ignore_index=True)\n"
     ]
    },
    {
     "name": "stdout",
     "output_type": "stream",
     "text": [
      "1/1 - 0s - 18ms/epoch - 18ms/step\n",
      "1/1 - 0s - 15ms/epoch - 15ms/step\n",
      "1/1 - 0s - 14ms/epoch - 14ms/step\n",
      "1/1 - 0s - 15ms/epoch - 15ms/step\n",
      "1/1 - 0s - 14ms/epoch - 14ms/step\n"
     ]
    },
    {
     "name": "stderr",
     "output_type": "stream",
     "text": [
      "/var/folders/18/4s2_njc94pv_nkk_33fxl4700000gn/T/ipykernel_1975/1088707662.py:13: FutureWarning: The frame.append method is deprecated and will be removed from pandas in a future version. Use pandas.concat instead.\n",
      "  df_result = df_result.append({\"Actual\": y, \"Prediction\": store_yhat}, ignore_index=True)\n",
      "/var/folders/18/4s2_njc94pv_nkk_33fxl4700000gn/T/ipykernel_1975/1088707662.py:13: FutureWarning: The frame.append method is deprecated and will be removed from pandas in a future version. Use pandas.concat instead.\n",
      "  df_result = df_result.append({\"Actual\": y, \"Prediction\": store_yhat}, ignore_index=True)\n",
      "/var/folders/18/4s2_njc94pv_nkk_33fxl4700000gn/T/ipykernel_1975/1088707662.py:13: FutureWarning: The frame.append method is deprecated and will be removed from pandas in a future version. Use pandas.concat instead.\n",
      "  df_result = df_result.append({\"Actual\": y, \"Prediction\": store_yhat}, ignore_index=True)\n",
      "/var/folders/18/4s2_njc94pv_nkk_33fxl4700000gn/T/ipykernel_1975/1088707662.py:13: FutureWarning: The frame.append method is deprecated and will be removed from pandas in a future version. Use pandas.concat instead.\n",
      "  df_result = df_result.append({\"Actual\": y, \"Prediction\": store_yhat}, ignore_index=True)\n",
      "/var/folders/18/4s2_njc94pv_nkk_33fxl4700000gn/T/ipykernel_1975/1088707662.py:13: FutureWarning: The frame.append method is deprecated and will be removed from pandas in a future version. Use pandas.concat instead.\n",
      "  df_result = df_result.append({\"Actual\": y, \"Prediction\": store_yhat}, ignore_index=True)\n"
     ]
    },
    {
     "name": "stdout",
     "output_type": "stream",
     "text": [
      "1/1 - 0s - 15ms/epoch - 15ms/step\n",
      "1/1 - 0s - 15ms/epoch - 15ms/step\n",
      "1/1 - 0s - 16ms/epoch - 16ms/step\n",
      "1/1 - 0s - 14ms/epoch - 14ms/step\n",
      "1/1 - 0s - 14ms/epoch - 14ms/step\n"
     ]
    },
    {
     "name": "stderr",
     "output_type": "stream",
     "text": [
      "/var/folders/18/4s2_njc94pv_nkk_33fxl4700000gn/T/ipykernel_1975/1088707662.py:13: FutureWarning: The frame.append method is deprecated and will be removed from pandas in a future version. Use pandas.concat instead.\n",
      "  df_result = df_result.append({\"Actual\": y, \"Prediction\": store_yhat}, ignore_index=True)\n",
      "/var/folders/18/4s2_njc94pv_nkk_33fxl4700000gn/T/ipykernel_1975/1088707662.py:13: FutureWarning: The frame.append method is deprecated and will be removed from pandas in a future version. Use pandas.concat instead.\n",
      "  df_result = df_result.append({\"Actual\": y, \"Prediction\": store_yhat}, ignore_index=True)\n",
      "/var/folders/18/4s2_njc94pv_nkk_33fxl4700000gn/T/ipykernel_1975/1088707662.py:13: FutureWarning: The frame.append method is deprecated and will be removed from pandas in a future version. Use pandas.concat instead.\n",
      "  df_result = df_result.append({\"Actual\": y, \"Prediction\": store_yhat}, ignore_index=True)\n",
      "/var/folders/18/4s2_njc94pv_nkk_33fxl4700000gn/T/ipykernel_1975/1088707662.py:13: FutureWarning: The frame.append method is deprecated and will be removed from pandas in a future version. Use pandas.concat instead.\n",
      "  df_result = df_result.append({\"Actual\": y, \"Prediction\": store_yhat}, ignore_index=True)\n",
      "/var/folders/18/4s2_njc94pv_nkk_33fxl4700000gn/T/ipykernel_1975/1088707662.py:13: FutureWarning: The frame.append method is deprecated and will be removed from pandas in a future version. Use pandas.concat instead.\n",
      "  df_result = df_result.append({\"Actual\": y, \"Prediction\": store_yhat}, ignore_index=True)\n"
     ]
    },
    {
     "name": "stdout",
     "output_type": "stream",
     "text": [
      "1/1 - 0s - 14ms/epoch - 14ms/step\n",
      "1/1 - 0s - 14ms/epoch - 14ms/step\n",
      "1/1 - 0s - 15ms/epoch - 15ms/step\n",
      "1/1 - 0s - 14ms/epoch - 14ms/step\n",
      "1/1 - 0s - 14ms/epoch - 14ms/step\n",
      "1/1 - 0s - 14ms/epoch - 14ms/step\n"
     ]
    },
    {
     "name": "stderr",
     "output_type": "stream",
     "text": [
      "/var/folders/18/4s2_njc94pv_nkk_33fxl4700000gn/T/ipykernel_1975/1088707662.py:13: FutureWarning: The frame.append method is deprecated and will be removed from pandas in a future version. Use pandas.concat instead.\n",
      "  df_result = df_result.append({\"Actual\": y, \"Prediction\": store_yhat}, ignore_index=True)\n",
      "/var/folders/18/4s2_njc94pv_nkk_33fxl4700000gn/T/ipykernel_1975/1088707662.py:13: FutureWarning: The frame.append method is deprecated and will be removed from pandas in a future version. Use pandas.concat instead.\n",
      "  df_result = df_result.append({\"Actual\": y, \"Prediction\": store_yhat}, ignore_index=True)\n",
      "/var/folders/18/4s2_njc94pv_nkk_33fxl4700000gn/T/ipykernel_1975/1088707662.py:13: FutureWarning: The frame.append method is deprecated and will be removed from pandas in a future version. Use pandas.concat instead.\n",
      "  df_result = df_result.append({\"Actual\": y, \"Prediction\": store_yhat}, ignore_index=True)\n",
      "/var/folders/18/4s2_njc94pv_nkk_33fxl4700000gn/T/ipykernel_1975/1088707662.py:13: FutureWarning: The frame.append method is deprecated and will be removed from pandas in a future version. Use pandas.concat instead.\n",
      "  df_result = df_result.append({\"Actual\": y, \"Prediction\": store_yhat}, ignore_index=True)\n",
      "/var/folders/18/4s2_njc94pv_nkk_33fxl4700000gn/T/ipykernel_1975/1088707662.py:13: FutureWarning: The frame.append method is deprecated and will be removed from pandas in a future version. Use pandas.concat instead.\n",
      "  df_result = df_result.append({\"Actual\": y, \"Prediction\": store_yhat}, ignore_index=True)\n"
     ]
    },
    {
     "name": "stdout",
     "output_type": "stream",
     "text": [
      "1/1 - 0s - 14ms/epoch - 14ms/step\n",
      "1/1 - 0s - 14ms/epoch - 14ms/step\n",
      "1/1 - 0s - 13ms/epoch - 13ms/step\n",
      "1/1 - 0s - 14ms/epoch - 14ms/step\n",
      "1/1 - 0s - 14ms/epoch - 14ms/step\n"
     ]
    },
    {
     "name": "stderr",
     "output_type": "stream",
     "text": [
      "/var/folders/18/4s2_njc94pv_nkk_33fxl4700000gn/T/ipykernel_1975/1088707662.py:13: FutureWarning: The frame.append method is deprecated and will be removed from pandas in a future version. Use pandas.concat instead.\n",
      "  df_result = df_result.append({\"Actual\": y, \"Prediction\": store_yhat}, ignore_index=True)\n",
      "/var/folders/18/4s2_njc94pv_nkk_33fxl4700000gn/T/ipykernel_1975/1088707662.py:13: FutureWarning: The frame.append method is deprecated and will be removed from pandas in a future version. Use pandas.concat instead.\n",
      "  df_result = df_result.append({\"Actual\": y, \"Prediction\": store_yhat}, ignore_index=True)\n",
      "/var/folders/18/4s2_njc94pv_nkk_33fxl4700000gn/T/ipykernel_1975/1088707662.py:13: FutureWarning: The frame.append method is deprecated and will be removed from pandas in a future version. Use pandas.concat instead.\n",
      "  df_result = df_result.append({\"Actual\": y, \"Prediction\": store_yhat}, ignore_index=True)\n",
      "/var/folders/18/4s2_njc94pv_nkk_33fxl4700000gn/T/ipykernel_1975/1088707662.py:13: FutureWarning: The frame.append method is deprecated and will be removed from pandas in a future version. Use pandas.concat instead.\n",
      "  df_result = df_result.append({\"Actual\": y, \"Prediction\": store_yhat}, ignore_index=True)\n",
      "/var/folders/18/4s2_njc94pv_nkk_33fxl4700000gn/T/ipykernel_1975/1088707662.py:13: FutureWarning: The frame.append method is deprecated and will be removed from pandas in a future version. Use pandas.concat instead.\n",
      "  df_result = df_result.append({\"Actual\": y, \"Prediction\": store_yhat}, ignore_index=True)\n",
      "/var/folders/18/4s2_njc94pv_nkk_33fxl4700000gn/T/ipykernel_1975/1088707662.py:13: FutureWarning: The frame.append method is deprecated and will be removed from pandas in a future version. Use pandas.concat instead.\n",
      "  df_result = df_result.append({\"Actual\": y, \"Prediction\": store_yhat}, ignore_index=True)\n"
     ]
    },
    {
     "name": "stdout",
     "output_type": "stream",
     "text": [
      "1/1 - 0s - 13ms/epoch - 13ms/step\n",
      "1/1 - 0s - 14ms/epoch - 14ms/step\n",
      "1/1 - 0s - 13ms/epoch - 13ms/step\n",
      "1/1 - 0s - 14ms/epoch - 14ms/step\n",
      "1/1 - 0s - 14ms/epoch - 14ms/step\n",
      "1/1 - 0s - 14ms/epoch - 14ms/step\n"
     ]
    },
    {
     "name": "stderr",
     "output_type": "stream",
     "text": [
      "/var/folders/18/4s2_njc94pv_nkk_33fxl4700000gn/T/ipykernel_1975/1088707662.py:13: FutureWarning: The frame.append method is deprecated and will be removed from pandas in a future version. Use pandas.concat instead.\n",
      "  df_result = df_result.append({\"Actual\": y, \"Prediction\": store_yhat}, ignore_index=True)\n",
      "/var/folders/18/4s2_njc94pv_nkk_33fxl4700000gn/T/ipykernel_1975/1088707662.py:13: FutureWarning: The frame.append method is deprecated and will be removed from pandas in a future version. Use pandas.concat instead.\n",
      "  df_result = df_result.append({\"Actual\": y, \"Prediction\": store_yhat}, ignore_index=True)\n",
      "/var/folders/18/4s2_njc94pv_nkk_33fxl4700000gn/T/ipykernel_1975/1088707662.py:13: FutureWarning: The frame.append method is deprecated and will be removed from pandas in a future version. Use pandas.concat instead.\n",
      "  df_result = df_result.append({\"Actual\": y, \"Prediction\": store_yhat}, ignore_index=True)\n",
      "/var/folders/18/4s2_njc94pv_nkk_33fxl4700000gn/T/ipykernel_1975/1088707662.py:13: FutureWarning: The frame.append method is deprecated and will be removed from pandas in a future version. Use pandas.concat instead.\n",
      "  df_result = df_result.append({\"Actual\": y, \"Prediction\": store_yhat}, ignore_index=True)\n",
      "/var/folders/18/4s2_njc94pv_nkk_33fxl4700000gn/T/ipykernel_1975/1088707662.py:13: FutureWarning: The frame.append method is deprecated and will be removed from pandas in a future version. Use pandas.concat instead.\n",
      "  df_result = df_result.append({\"Actual\": y, \"Prediction\": store_yhat}, ignore_index=True)\n",
      "/var/folders/18/4s2_njc94pv_nkk_33fxl4700000gn/T/ipykernel_1975/1088707662.py:13: FutureWarning: The frame.append method is deprecated and will be removed from pandas in a future version. Use pandas.concat instead.\n",
      "  df_result = df_result.append({\"Actual\": y, \"Prediction\": store_yhat}, ignore_index=True)\n"
     ]
    },
    {
     "name": "stdout",
     "output_type": "stream",
     "text": [
      "1/1 - 0s - 14ms/epoch - 14ms/step\n",
      "1/1 - 0s - 14ms/epoch - 14ms/step\n",
      "1/1 - 0s - 14ms/epoch - 14ms/step\n",
      "1/1 - 0s - 14ms/epoch - 14ms/step\n",
      "1/1 - 0s - 14ms/epoch - 14ms/step\n"
     ]
    },
    {
     "name": "stderr",
     "output_type": "stream",
     "text": [
      "/var/folders/18/4s2_njc94pv_nkk_33fxl4700000gn/T/ipykernel_1975/1088707662.py:13: FutureWarning: The frame.append method is deprecated and will be removed from pandas in a future version. Use pandas.concat instead.\n",
      "  df_result = df_result.append({\"Actual\": y, \"Prediction\": store_yhat}, ignore_index=True)\n",
      "/var/folders/18/4s2_njc94pv_nkk_33fxl4700000gn/T/ipykernel_1975/1088707662.py:13: FutureWarning: The frame.append method is deprecated and will be removed from pandas in a future version. Use pandas.concat instead.\n",
      "  df_result = df_result.append({\"Actual\": y, \"Prediction\": store_yhat}, ignore_index=True)\n",
      "/var/folders/18/4s2_njc94pv_nkk_33fxl4700000gn/T/ipykernel_1975/1088707662.py:13: FutureWarning: The frame.append method is deprecated and will be removed from pandas in a future version. Use pandas.concat instead.\n",
      "  df_result = df_result.append({\"Actual\": y, \"Prediction\": store_yhat}, ignore_index=True)\n",
      "/var/folders/18/4s2_njc94pv_nkk_33fxl4700000gn/T/ipykernel_1975/1088707662.py:13: FutureWarning: The frame.append method is deprecated and will be removed from pandas in a future version. Use pandas.concat instead.\n",
      "  df_result = df_result.append({\"Actual\": y, \"Prediction\": store_yhat}, ignore_index=True)\n",
      "/var/folders/18/4s2_njc94pv_nkk_33fxl4700000gn/T/ipykernel_1975/1088707662.py:13: FutureWarning: The frame.append method is deprecated and will be removed from pandas in a future version. Use pandas.concat instead.\n",
      "  df_result = df_result.append({\"Actual\": y, \"Prediction\": store_yhat}, ignore_index=True)\n"
     ]
    },
    {
     "name": "stdout",
     "output_type": "stream",
     "text": [
      "1/1 - 0s - 14ms/epoch - 14ms/step\n",
      "1/1 - 0s - 16ms/epoch - 16ms/step\n",
      "1/1 - 0s - 15ms/epoch - 15ms/step\n"
     ]
    },
    {
     "name": "stderr",
     "output_type": "stream",
     "text": [
      "/var/folders/18/4s2_njc94pv_nkk_33fxl4700000gn/T/ipykernel_1975/1088707662.py:13: FutureWarning: The frame.append method is deprecated and will be removed from pandas in a future version. Use pandas.concat instead.\n",
      "  df_result = df_result.append({\"Actual\": y, \"Prediction\": store_yhat}, ignore_index=True)\n",
      "/var/folders/18/4s2_njc94pv_nkk_33fxl4700000gn/T/ipykernel_1975/1088707662.py:13: FutureWarning: The frame.append method is deprecated and will be removed from pandas in a future version. Use pandas.concat instead.\n",
      "  df_result = df_result.append({\"Actual\": y, \"Prediction\": store_yhat}, ignore_index=True)\n",
      "/var/folders/18/4s2_njc94pv_nkk_33fxl4700000gn/T/ipykernel_1975/1088707662.py:13: FutureWarning: The frame.append method is deprecated and will be removed from pandas in a future version. Use pandas.concat instead.\n",
      "  df_result = df_result.append({\"Actual\": y, \"Prediction\": store_yhat}, ignore_index=True)\n"
     ]
    },
    {
     "name": "stdout",
     "output_type": "stream",
     "text": [
      "1/1 - 0s - 15ms/epoch - 15ms/step\n",
      "1/1 - 0s - 16ms/epoch - 16ms/step\n",
      "1/1 - 0s - 16ms/epoch - 16ms/step\n",
      "1/1 - 0s - 15ms/epoch - 15ms/step\n",
      "1/1 - 0s - 15ms/epoch - 15ms/step\n"
     ]
    },
    {
     "name": "stderr",
     "output_type": "stream",
     "text": [
      "/var/folders/18/4s2_njc94pv_nkk_33fxl4700000gn/T/ipykernel_1975/1088707662.py:13: FutureWarning: The frame.append method is deprecated and will be removed from pandas in a future version. Use pandas.concat instead.\n",
      "  df_result = df_result.append({\"Actual\": y, \"Prediction\": store_yhat}, ignore_index=True)\n",
      "/var/folders/18/4s2_njc94pv_nkk_33fxl4700000gn/T/ipykernel_1975/1088707662.py:13: FutureWarning: The frame.append method is deprecated and will be removed from pandas in a future version. Use pandas.concat instead.\n",
      "  df_result = df_result.append({\"Actual\": y, \"Prediction\": store_yhat}, ignore_index=True)\n",
      "/var/folders/18/4s2_njc94pv_nkk_33fxl4700000gn/T/ipykernel_1975/1088707662.py:13: FutureWarning: The frame.append method is deprecated and will be removed from pandas in a future version. Use pandas.concat instead.\n",
      "  df_result = df_result.append({\"Actual\": y, \"Prediction\": store_yhat}, ignore_index=True)\n",
      "/var/folders/18/4s2_njc94pv_nkk_33fxl4700000gn/T/ipykernel_1975/1088707662.py:13: FutureWarning: The frame.append method is deprecated and will be removed from pandas in a future version. Use pandas.concat instead.\n",
      "  df_result = df_result.append({\"Actual\": y, \"Prediction\": store_yhat}, ignore_index=True)\n",
      "/var/folders/18/4s2_njc94pv_nkk_33fxl4700000gn/T/ipykernel_1975/1088707662.py:13: FutureWarning: The frame.append method is deprecated and will be removed from pandas in a future version. Use pandas.concat instead.\n",
      "  df_result = df_result.append({\"Actual\": y, \"Prediction\": store_yhat}, ignore_index=True)\n"
     ]
    },
    {
     "name": "stdout",
     "output_type": "stream",
     "text": [
      "1/1 - 0s - 15ms/epoch - 15ms/step\n"
     ]
    },
    {
     "name": "stderr",
     "output_type": "stream",
     "text": [
      "/var/folders/18/4s2_njc94pv_nkk_33fxl4700000gn/T/ipykernel_1975/1088707662.py:13: FutureWarning: The frame.append method is deprecated and will be removed from pandas in a future version. Use pandas.concat instead.\n",
      "  df_result = df_result.append({\"Actual\": y, \"Prediction\": store_yhat}, ignore_index=True)\n"
     ]
    }
   ],
   "source": [
    "df_result = pd.DataFrame({\"Actual\": [], \"Prediction\": []})\n",
    "\n",
    "store_1 = len(time_for_test)\n",
    "\n",
    "for i in range(store_1):\n",
    "    \n",
    "    x, y = time_for_test[i]\n",
    "    \n",
    "    x_input = np.array(x).reshape((1, n_input, n_features))\n",
    "    \n",
    "    store_yhat = model.predict(x_input, verbose=2)\n",
    "    \n",
    "    df_result = df_result.append({\"Actual\": y, \"Prediction\": store_yhat}, ignore_index=True)"
   ]
  },
  {
   "cell_type": "code",
   "execution_count": 22,
   "metadata": {
    "id": "uuqXJqngPAWc"
   },
   "outputs": [],
   "source": [
    "\n",
    "diff_sub = (df_result[\"Prediction\"] - df_result[\"Actual\"])\n",
    "\n",
    "df_result[\"Diff\"] = (\n",
    "    100 * diff_sub / df_result[\"Actual\"]\n",
    ")\n",
    "\n",
    "store_4 = df_result.columns\n",
    "\n",
    "for i in list(store_4):\n",
    "    df_result[i] = df_result[i].apply(lambda x: x[0][0])\n",
    "\n",
    "df_result.to_csv(\"rnn_eeout.csv\")"
   ]
  },
  {
   "cell_type": "code",
   "execution_count": 23,
   "metadata": {
    "colab": {
     "base_uri": "https://localhost:8080/",
     "height": 592
    },
    "id": "xkvuEtxiP3FF",
    "outputId": "e8282f7d-99d7-4004-b9e8-33a5919d75b4"
   },
   "outputs": [
    {
     "data": {
      "text/plain": [
       "[<matplotlib.lines.Line2D at 0x7fd755d0bcd0>]"
      ]
     },
     "execution_count": 23,
     "metadata": {},
     "output_type": "execute_result"
    },
    {
     "data": {
      "image/png": "[encoded data removed]",
      "text/plain": [
       "<Figure size 936x864 with 1 Axes>"
      ]
     },
     "metadata": {
      "needs_background": "light"
     },
     "output_type": "display_data"
    }
   ],
   "source": [
    "plt.figure(figsize=(13, 12))\n",
    "plt.plot(df_result[\"Actual\"], color=\"red\")\n",
    "plt.plot(df_result[\"Prediction\"], color=\"green\")"
   ]
  },
  {
   "cell_type": "code",
   "execution_count": 24,
   "metadata": {
    "id": "eai4HoUzP-jW"
   },
   "outputs": [],
   "source": [
    "def root_mean_squared_error(y_true, y_pred):\n",
    "    return np.sqrt(np.mean(np.square(y_pred - (y_true))))"
   ]
  },
  {
   "cell_type": "code",
   "execution_count": 25,
   "metadata": {
    "colab": {
     "base_uri": "https://localhost:8080/"
    },
    "id": "kjde6gmEQUfg",
    "outputId": "ff520bee-3377-49db-fb90-67038e4da95d"
   },
   "outputs": [
    {
     "name": "stdout",
     "output_type": "stream",
     "text": [
      "7144.224045136396\n"
     ]
    }
   ],
   "source": [
    "print(root_mean_squared_error(df_result[\"Actual\"], df_result[\"Prediction\"]))"
   ]
  },
  {
   "cell_type": "code",
   "execution_count": 26,
   "metadata": {
    "id": "dZY-yqYEQfOw"
   },
   "outputs": [
    {
     "data": {
      "text/plain": [
       "{'rmse': 7144.224045136396,\n",
       " 'dtw distance': 1.0448027116051644,\n",
       " 'pearson statistic': 0.9773756953791393,\n",
       " 'pearson p-value': 6.730484258266209e-45,\n",
       " 'spearman rho': 0.9602546707024321,\n",
       " 'spearman p-value': 3.5104926651783416e-37}"
      ]
     },
     "execution_count": 26,
     "metadata": {},
     "output_type": "execute_result"
    }
   ],
   "source": [
    "from modules.utils import SYMPTOM_COLUMNS, SYMPTOM_NAMES\n",
    "from modules.eval import *\n",
    "from modules.plot import *\n",
    "\n",
    "run_eval_suite_default(df_result[\"Prediction\"], df_result[\"Actual\"])"
   ]
  },
  {
   "cell_type": "code",
   "execution_count": 27,
   "metadata": {},
   "outputs": [],
   "source": [
    "_ = get_model_results(\n",
    "    df_result[\"Prediction\"],\n",
    "    df_result[\"Actual\"],\n",
    "    \"rnn_seqlen_7_with_media\",\n",
    "    media=False,\n",
    "    lead=0,\n",
    "    save=True,\n",
    ")"
   ]
  },
  {
   "cell_type": "code",
   "execution_count": 28,
   "metadata": {},
   "outputs": [
    {
     "data": {
      "image/png": "[encoded data removed]",
      "text/plain": [
       "<Figure size 432x288 with 1 Axes>"
      ]
     },
     "metadata": {
      "needs_background": "light"
     },
     "output_type": "display_data"
    }
   ],
   "source": [
    "plot_predictions_actual(_, \"rnn_seqlen_7_with_media\")"
   ]
  },
  {
   "cell_type": "code",
   "execution_count": null,
   "metadata": {},
   "outputs": [],
   "source": []
  },
  {
   "cell_type": "code",
   "execution_count": null,
   "metadata": {},
   "outputs": [],
   "source": []
  },
  {
   "cell_type": "code",
   "execution_count": null,
   "metadata": {},
   "outputs": [],
   "source": []
  },
  {
   "cell_type": "code",
   "execution_count": null,
   "metadata": {},
   "outputs": [],
   "source": []
  },
  {
   "cell_type": "code",
   "execution_count": null,
   "metadata": {},
   "outputs": [],
   "source": []
  },
  {
   "cell_type": "code",
   "execution_count": null,
   "metadata": {},
   "outputs": [],
   "source": []
  },
  {
   "cell_type": "code",
   "execution_count": null,
   "metadata": {},
   "outputs": [],
   "source": []
  },
  {
   "cell_type": "code",
   "execution_count": null,
   "metadata": {},
   "outputs": [],
   "source": []
  },
  {
   "cell_type": "code",
   "execution_count": null,
   "metadata": {},
   "outputs": [],
   "source": []
  },
  {
   "cell_type": "code",
   "execution_count": null,
   "metadata": {},
   "outputs": [],
   "source": []
  },
  {
   "cell_type": "code",
   "execution_count": null,
   "metadata": {},
   "outputs": [],
   "source": []
  },
  {
   "cell_type": "code",
   "execution_count": null,
   "metadata": {},
   "outputs": [],
   "source": []
  },
  {
   "cell_type": "code",
   "execution_count": null,
   "metadata": {},
   "outputs": [],
   "source": []
  },
  {
   "cell_type": "code",
   "execution_count": null,
   "metadata": {},
   "outputs": [],
   "source": []
  },
  {
   "cell_type": "code",
   "execution_count": null,
   "metadata": {},
   "outputs": [],
   "source": []
  },
  {
   "cell_type": "code",
   "execution_count": null,
   "metadata": {},
   "outputs": [],
   "source": []
  },
  {
   "cell_type": "code",
   "execution_count": null,
   "metadata": {},
   "outputs": [],
   "source": []
  },
  {
   "cell_type": "code",
   "execution_count": null,
   "metadata": {},
   "outputs": [],
   "source": []
  },
  {
   "cell_type": "code",
   "execution_count": null,
   "metadata": {},
   "outputs": [],
   "source": []
  },
  {
   "cell_type": "code",
   "execution_count": null,
   "metadata": {},
   "outputs": [],
   "source": []
  },
  {
   "cell_type": "code",
   "execution_count": null,
   "metadata": {},
   "outputs": [],
   "source": []
  },
  {
   "cell_type": "code",
   "execution_count": null,
   "metadata": {},
   "outputs": [],
   "source": []
  },
  {
   "cell_type": "code",
   "execution_count": null,
   "metadata": {},
   "outputs": [],
   "source": []
  }
 ],
 "metadata": {
  "colab": {
   "provenance": []
  },
  "kernelspec": {
   "display_name": "Python 3 (ipykernel)",
   "language": "python",
   "name": "python3"
  },
  "language_info": {
   "codemirror_mode": {
    "name": "ipython",
    "version": 3
   },
   "file_extension": ".py",
   "mimetype": "text/x-python",
   "name": "python",
   "nbconvert_exporter": "python",
   "pygments_lexer": "ipython3",
   "version": "3.9.5"
  },
  "vscode": {
   "interpreter": {
    "hash": "47e775c0c2ec5925892ed9ec69e655fcb107c4afa121ee38a538c2a11d2b5b0c"
   }
  }
 },
 "nbformat": 4,
 "nbformat_minor": 1
}
